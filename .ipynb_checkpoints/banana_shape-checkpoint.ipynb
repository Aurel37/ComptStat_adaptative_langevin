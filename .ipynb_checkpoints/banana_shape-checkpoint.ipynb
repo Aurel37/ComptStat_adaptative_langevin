{
 "cells": [
  {
   "cell_type": "code",
   "execution_count": 1,
   "id": "together-duplicate",
   "metadata": {},
   "outputs": [],
   "source": [
    "import numpy as np\n",
    "import matplotlib.pyplot as plt\n",
    "import pandas as pd\n",
    "import seaborn as sns"
   ]
  },
  {
   "cell_type": "code",
   "execution_count": 2,
   "id": "positive-modeling",
   "metadata": {},
   "outputs": [],
   "source": [
    "import time, sys\n",
    "\n",
    "# utility function fr progress bar \n",
    "# see https://stackoverflow.com/questions/3160699/python-progress-bar for more details\n",
    "def update_progress(progress):\n",
    "    barLength = 10 # Modify this to change the length of the progress bar\n",
    "    status = \"\"\n",
    "    if isinstance(progress, int):\n",
    "        progress = float(progress)\n",
    "    if not isinstance(progress, float):\n",
    "        progress = 0\n",
    "        status = \"error: progress var must be float\\r\\n\"\n",
    "    if progress < 0:\n",
    "        progress = 0\n",
    "        status = \"Halt...\\r\\n\"\n",
    "    if progress >= 1:\n",
    "        progress = 1\n",
    "        status = \"Done...\\r\\n\"\n",
    "    block = int(round(barLength*progress))\n",
    "    text = \"\\rPercent: [{0}] {1:.2f}% {2}\".format( \"#\"*block + \"-\"*(barLength-block), progress*100, status)\n",
    "    sys.stdout.write(text)\n",
    "    sys.stdout.flush()"
   ]
  },
  {
   "cell_type": "code",
   "execution_count": 3,
   "id": "worse-pipeline",
   "metadata": {},
   "outputs": [],
   "source": [
    "def log_pi(X, B):\n",
    "    n = len(X)\n",
    "    grad = np.array([-X[i] for i in range(n)])\n",
    "    grad[0] = -2/100*X[0] - 2*X[0]*(X[1] + B*X[0]**2-100*B)\n",
    "    grad[1] = -(X[1] + B*X[1]**2 - 100*B)\n",
    "    return grad"
   ]
  },
  {
   "cell_type": "code",
   "execution_count": 4,
   "id": "analyzed-consultation",
   "metadata": {},
   "outputs": [],
   "source": [
    "def generate_drift(X, grad_log_pi, B, delta, sigma, gamma):\n",
    "    grad = grad_log_pi(X,B)\n",
    "    D_mala = delta/(max(delta, np.abs(grad)))*grad\n",
    "    "
   ]
  },
  {
   "cell_type": "code",
   "execution_count": 5,
   "id": "pointed-boards",
   "metadata": {},
   "outputs": [],
   "source": [
    "class adaptative_MALA:\n",
    "    \n",
    "    def __init__(self, X, delta, B, mu_0, sigma_0, Gamma_0, tau, c_0, epsilon_1, epsilon_2, A_1, drift=True, adaptative=True):\n",
    "        self.X = X\n",
    "        self.delta = delta\n",
    "        self.B = B\n",
    "        self.mu = mu_0\n",
    "        self.sigma = sigma_0\n",
    "        self.Gamma = Gamma_0\n",
    "        self.Lambda = Gamma_0 + epsilon_2*np.eye(len(Gamma_0))\n",
    "        self.n = len(X)\n",
    "        self.tau = tau\n",
    "        self.c_0 = c_0\n",
    "        self.gamma = c_0\n",
    "        self.epsilon_1 = epsilon_1\n",
    "        self.epsilon_2 = epsilon_2\n",
    "        self.A_1 = A_1\n",
    "        self.D_mala = None\n",
    "        self.alpha = None\n",
    "        self.drift = drift\n",
    "        self.adaptative = adaptative\n",
    "    \n",
    "    def grad_log_pi(self):\n",
    "        grad = np.array([-self.X[i] for i in range(self.n)])\n",
    "        grad[0] = -2/100*self.X[0] - 2*self.X[0]*(X[1] + self.B*self.X[0]**2-100*self.B)\n",
    "        grad[1] = -(self.X[1] + self.B*self.X[1]**2 - 100*self.B)\n",
    "        return grad\n",
    "    \n",
    "    def generate_drift(self):\n",
    "        if self.drift:\n",
    "            print(\"calcul\")\n",
    "            grad = self.grad_log_pi()\n",
    "            print(\"grad = \", grad)\n",
    "            self.D_mala = self.delta/(max(self.delta, np.sqrt(np.trace(np.outer(grad,grad)))))*grad\n",
    "            print(\"d_mala = \", self.D_mala)\n",
    "            return np.random.multivariate_normal(X + self.sigma**2/2*self.Lambda@self.D_mala, self.sigma**2*self.Lambda)\n",
    "        else:\n",
    "            return np.random.multivariate_normal(np.array([0 for i in range(self.n)]), self.sigma**2*self.Lambda)\n",
    "    \n",
    "    def log_gaussienne(self, X, Y):\n",
    "        if self.drift:\n",
    "            mu = X + self.sigma**2/2*self.Lambda@self.D_mala\n",
    "        else:\n",
    "            mu = np.array([0 for i in range(self.n)])\n",
    "        return -1/2*(Y - mu).T@np.linalg.inv(self.sigma**2*self.Lambda)@(Y - mu)\n",
    "    \n",
    "    def log_loi(self, X):\n",
    "        res = -X[0]**2/200 - 1/2*(X[1] + self.B*X[0]**2 - 100*self.B)**2\n",
    "        print(\"res = \", res)\n",
    "        return res - 1/2*np.sum(np.square(X[2:]))\n",
    "    \n",
    "    def MH_step(self):\n",
    "        print(\"inside 1\")\n",
    "        Y = self.generate_drift()\n",
    "        print(\"inside 2\")\n",
    "        log_alpha = min(0, self.log_gaussienne(Y,X)*self.log_loi(Y) - self.log_gaussienne(X,Y)*self.log_loi(X))\n",
    "        u = np.random.random()\n",
    "        if np.log(u) < log_alpha:\n",
    "            self.X = Y\n",
    "        self.alpha = np.exp(log_alpha)\n",
    "    \n",
    "    def p_1(self, sigma):\n",
    "        if sigma < self.epsilon_1:\n",
    "            return self.epsilon_1\n",
    "        elif sigma > self.A_1:\n",
    "            return A_1\n",
    "        else:\n",
    "            return sigma\n",
    "    \n",
    "    def p_2(self, sigma):\n",
    "        norme_sigma = np.sqrt(np.trace(sigma@sigma))\n",
    "        if norme_sigma < self.A_1:\n",
    "            return sigma\n",
    "        else:\n",
    "            return self.A_1/norme_sigma*sigma\n",
    "    \n",
    "    def p_3(self, x):\n",
    "        norme_x = np.linalg.norm(x)\n",
    "        if norme_x < self.A_1:\n",
    "            return x\n",
    "        else:\n",
    "            return A_1/norme_x*x\n",
    "\n",
    "    def update(self):\n",
    "        self.mu = self.p_3(self.mu + self.gamma*(self.X-self.mu))\n",
    "        self.Gamma = self.p_2(self.Gamma + self.gamma*(np.outer((self.X-self.mu), (self.X-self.mu)) - self.Gamma))\n",
    "        self.Lambda = Gamma_0 + epsilon_2*np.eye(len(Gamma_0))\n",
    "        self.sigma = self.p_1(self.sigma + self.gamma*(np.exp(self.alpha)) - self.tau)\n",
    "    \n",
    "    def run(self, maxIter=5000, sample=300):\n",
    "        RES = []\n",
    "        for i in range(maxIter):\n",
    "            update_progress(i/maxIter)\n",
    "            print(\"coucou\")\n",
    "            self.MH_step()\n",
    "            if i != 0:\n",
    "                self.gamma = self.c_0/i\n",
    "            self.update()\n",
    "            RES.append(self.X)\n",
    "        return RES[sample:]\n",
    "        \n",
    "        "
   ]
  },
  {
   "cell_type": "code",
   "execution_count": 6,
   "id": "reliable-rouge",
   "metadata": {},
   "outputs": [],
   "source": [
    "delta = 1000\n",
    "tau = 0.5\n",
    "epsilon_1 = pow(10, -7)\n",
    "epsilon_2 = pow(10, -6)\n",
    "A_1 = np.power(10, 7)\n",
    "c_0 = 10\n",
    "B = 1\n",
    "mu_0 = np.array([0 for i in range(2)])\n",
    "sigma_0 = 10\n",
    "Gamma_0 = np.array([[3,1], [1,1]])# np.loadtxt(\"tmalaexcov.txt\", dtype=float)\n",
    "X = np.array([1 for i in range(2)])"
   ]
  },
  {
   "cell_type": "code",
   "execution_count": 7,
   "id": "resistant-anger",
   "metadata": {},
   "outputs": [
    {
     "data": {
      "image/png": "[encoded data removed]",
      "text/plain": [
       "<Figure size 432x288 with 1 Axes>"
      ]
     },
     "metadata": {
      "needs_background": "light"
     },
     "output_type": "display_data"
    }
   ],
   "source": [
    "side = np.linspace(-120,120,500)\n",
    "X, Y = np.meshgrid(side,side)\n",
    "Z = np.exp(-X**2/200 - 1/2*(Y + B*X**2 - 100*B)**2)\n",
    "\n",
    "# Plot the density map using nearest-neighbor interpolation\n",
    "#plt.xlim(-12, 12)\n",
    "#plt.ylim(-2, 2)\n",
    "plt.contour(X,Y,Z)\n",
    "plt.show()"
   ]
  },
  {
   "cell_type": "code",
   "execution_count": 8,
   "id": "sharing-proposal",
   "metadata": {},
   "outputs": [],
   "source": [
    "test = adaptative_MALA(X, delta, B, mu_0, sigma_0, Gamma_0, tau, c_0, epsilon_1, epsilon_2, A_1, drift=True)"
   ]
  },
  {
   "cell_type": "code",
   "execution_count": null,
   "id": "southern-worst",
   "metadata": {},
   "outputs": [
    {
     "name": "stdout",
     "output_type": "stream",
     "text": [
      "Percent: [----------] 0.00% coucou\n",
      "inside 1\n",
      "calcul\n",
      "grad =  [[ 3.40320240e+06  3.36214020e+06  3.32140885e+06 ... -3.37808911e+06\n",
      "  -3.41927940e+06 -3.46080240e+06]\n",
      " [-1.41800000e+04 -1.40652814e+04 -1.39510255e+04 ... -1.41891017e+04\n",
      "  -1.43043195e+04 -1.44200000e+04]\n",
      " [ 1.20000000e+02  1.19519038e+02  1.19038076e+02 ... -1.19038076e+02\n",
      "  -1.19519038e+02 -1.20000000e+02]\n",
      " ...\n",
      " [ 1.20000000e+02  1.19519038e+02  1.19038076e+02 ... -1.19038076e+02\n",
      "  -1.19519038e+02 -1.20000000e+02]\n",
      " [ 1.20000000e+02  1.19519038e+02  1.19038076e+02 ... -1.19038076e+02\n",
      "  -1.19519038e+02 -1.20000000e+02]\n",
      " [ 1.20000000e+02  1.19519038e+02  1.19038076e+02 ... -1.19038076e+02\n",
      "  -1.19519038e+02 -1.20000000e+02]]\n"
     ]
    }
   ],
   "source": [
    "RES = test.run()"
   ]
  },
  {
   "cell_type": "code",
   "execution_count": 87,
   "id": "reliable-forth",
   "metadata": {},
   "outputs": [
    {
     "data": {
      "text/plain": [
       "array([ 1,  4,  9, 16, 25])"
      ]
     },
     "execution_count": 87,
     "metadata": {},
     "output_type": "execute_result"
    }
   ],
   "source": [
    "test = np.array([1,2,3,4,5])\n",
    "np.square(test)"
   ]
  },
  {
   "cell_type": "code",
   "execution_count": 88,
   "id": "declared-relay",
   "metadata": {},
   "outputs": [
    {
     "name": "stdout",
     "output_type": "stream",
     "text": [
      "[array([1.00000005, 0.99999997]), array([1.00000005, 0.99999997]), array([1.00000005, 0.99999997]), array([1.00000005, 0.99999997]), array([1.00000005, 0.99999997]), array([1.0000001 , 1.00000016]), array([1.0000001 , 1.00000016]), array([1.00000006, 0.99999998]), array([1.00000006, 0.99999998]), array([1.        , 1.00000009]), array([1.00000006, 1.00000009]), array([1.00000006, 1.00000009]), array([1.00000003, 1.00000003]), array([1.        , 1.00000001]), array([1.00000001, 1.00000012]), array([1.00000015, 0.99999984]), array([1.00000015, 0.99999984]), array([1.00000037, 1.00000011]), array([1.00000037, 1.00000011]), array([1.00000037, 1.00000011]), array([1.00000009, 1.        ]), array([1.00000009, 1.        ]), array([1.00000009, 1.        ]), array([1.00000009, 1.        ]), array([1.00000011, 1.00000006]), array([1.00000011, 1.00000006]), array([1.00000001, 0.99999999]), array([1.00000002, 1.0000001 ]), array([1.00000004, 0.99999997]), array([1.00000018, 1.00000007]), array([1.00000006, 0.99999991]), array([1.00000044, 1.00000013]), array([1.00000044, 1.00000013]), array([1.00000044, 1.00000013]), array([1.00000044, 1.00000013]), array([1.00000044, 1.00000013]), array([1.00000044, 1.00000013]), array([1.00000044, 1.00000013]), array([1.00000044, 1.00000013]), array([1.00000044, 1.00000013]), array([1.00000014, 1.        ]), array([1.00000018, 0.99999997]), array([1.00000003, 0.99999994]), array([1.00000003, 0.99999994]), array([1.00000023, 1.00000022]), array([1.00000023, 1.00000022]), array([1.00000031, 1.00000025]), array([1.00000023, 1.00000012]), array([1.00000023, 1.00000012]), array([1.00000023, 1.00000012]), array([1.00000016, 1.00000001]), array([1.00000016, 1.00000001]), array([1.00000016, 1.00000001]), array([1.00000021, 1.00000032]), array([1.00000021, 1.00000032]), array([1.00000018, 1.00000014]), array([1.00000007, 0.99999999]), array([1.00000007, 0.99999999]), array([1.00000007, 0.99999999]), array([1.00000007, 0.99999999]), array([1.00000007, 0.99999999]), array([1.00000007, 0.99999999]), array([1.00000007, 0.99999999]), array([1.00000007, 0.99999999]), array([1.00000007, 0.99999999]), array([1.00000008, 1.00000009]), array([1.00000008, 1.00000009]), array([1.00000003, 1.00000001]), array([1.0000001 , 1.00000002]), array([1.00000007, 1.        ]), array([1.00000007, 1.        ]), array([1.00000007, 1.        ]), array([1.00000007, 1.        ]), array([1.00000007, 1.        ]), array([1.00000013, 1.00000011]), array([0.99999993, 1.00000016]), array([0.99999993, 1.00000016]), array([0.99999993, 1.00000016]), array([0.99999993, 1.00000016]), array([1.00000006, 1.00000006]), array([1.00000007, 1.0000002 ]), array([1.00000016, 1.00000008]), array([1.00000016, 1.00000008]), array([1.00000019, 1.        ]), array([1.00000019, 1.        ]), array([1.00000001, 1.        ]), array([1.00000036, 1.00000008]), array([1.00000035, 1.00000014]), array([1.00000035, 1.00000014]), array([1.00000035, 1.00000014]), array([1.00000035, 1.00000014]), array([1.00000035, 1.00000014]), array([1.00000009, 1.00000005]), array([1.00000009, 1.00000005]), array([1.00000022, 1.00000007]), array([1.00000022, 1.00000007]), array([1.00000009, 1.00000019]), array([1.00000009, 1.00000019]), array([1.00000009, 1.00000019]), array([1.00000009, 1.00000019]), array([1.00000018, 1.0000001 ]), array([1.00000018, 1.0000001 ]), array([1.00000018, 1.0000001 ]), array([1.00000018, 1.0000001 ]), array([1.00000007, 1.00000008]), array([1.00000021, 0.99999998]), array([1.00000048, 1.00000024]), array([1.00000048, 1.00000024]), array([1.00000048, 1.00000024]), array([1.00000013, 0.99999998]), array([1.00000015, 1.00000014]), array([1.00000015, 1.00000014]), array([1.00000015, 1.00000014]), array([1.00000008, 1.00000016]), array([1.00000002, 0.99999998]), array([1.00000002, 0.99999998]), array([1.00000002, 0.99999998]), array([1.00000002, 0.99999998]), array([1.00000016, 1.00000012]), array([1.00000006, 1.00000002]), array([1.00000012, 0.99999997]), array([1.00000024, 0.99999992]), array([1.00000014, 1.        ]), array([1.00000023, 1.00000008]), array([1.00000023, 1.00000008]), array([1.00000012, 1.0000001 ]), array([1.0000001, 1.       ]), array([1.00000008, 1.00000013]), array([1.00000008, 1.00000013]), array([1.00000001, 1.00000005]), array([1.00000001, 1.00000005]), array([1.00000009, 0.99999998]), array([1.00000009, 0.99999998]), array([1.00000012, 0.99999995]), array([1.0000001 , 1.00000003]), array([1.0000001 , 1.00000003]), array([1.00000021, 1.0000001 ]), array([1.00000022, 0.99999994]), array([1.       , 1.0000001]), array([1.       , 1.0000001]), array([1.00000028, 1.00000023]), array([1.00000028, 1.00000023]), array([1.00000001, 1.00000007]), array([1.00000009, 0.99999991]), array([1.00000009, 0.99999991]), array([1.00000009, 0.99999991]), array([1.00000009, 0.99999991]), array([1.00000009, 1.00000006]), array([1.00000008, 0.99999997]), array([1.00000008, 0.99999997]), array([1.00000008, 0.99999997]), array([1.00000008, 0.99999997]), array([1.00000007, 1.00000006]), array([1.00000029, 1.00000018]), array([1.00000029, 1.00000018]), array([1.00000006, 1.00000005]), array([1.00000006, 1.00000012]), array([1.00000006, 1.00000012]), array([1.00000006, 1.00000012]), array([1.0000001 , 1.00000029]), array([1.0000001 , 1.00000029]), array([1.00000014, 0.99999995]), array([1.00000014, 0.99999995]), array([1.00000014, 0.99999995]), array([1.00000014, 0.99999995]), array([1.00000018, 1.00000001]), array([1.00000005, 1.00000003]), array([1.00000001, 1.00000001]), array([1.00000001, 1.00000001]), array([1.00000012, 1.00000004]), array([1.00000012, 1.00000004]), array([1.00000021, 1.00000003]), array([1.00000021, 1.00000003]), array([1.00000009, 1.00000008]), array([1.00000012, 1.00000012]), array([1.00000012, 1.00000012]), array([1.00000012, 1.00000012]), array([1.00000012, 1.00000012]), array([1.00000012, 1.00000012]), array([1.00000008, 0.99999992]), array([1.00000008, 0.99999992]), array([1.00000008, 0.99999992]), array([1.00000008, 0.99999992]), array([1.00000022, 1.00000004]), array([1.00000022, 1.00000004]), array([1.00000006, 1.00000016]), array([1.00000021, 1.00000005]), array([1.00000005, 0.99999999]), array([1.00000005, 1.00000002]), array([1.00000011, 0.99999995]), array([1.00000011, 0.99999995]), array([1.00000013, 1.00000007]), array([1.00000013, 1.00000007]), array([1.00000013, 1.00000007]), array([1.00000009, 1.        ]), array([1.00000016, 0.99999998]), array([1.00000016, 0.99999998]), array([1.00000016, 0.99999998]), array([1.00000006, 0.99999998]), array([1.00000006, 0.99999998])]\n"
     ]
    }
   ],
   "source": [
    "print(RES[4500:])"
   ]
  },
  {
   "cell_type": "code",
   "execution_count": 32,
   "id": "metallic-manufacturer",
   "metadata": {},
   "outputs": [],
   "source": [
    "def crosscorrel(x, y, max_lag=None):\n",
    "    if max_lag is None:\n",
    "        max_lag =  len(x)\n",
    "    sx = pd.Series(x)\n",
    "    sy = pd.Series(y)\n",
    "    res = np.zeros(max_lag)\n",
    "    for lag in range(1, max_lag):\n",
    "        res[lag] = sx.corr(sy.shift(lag))\n",
    "    res[0] = 1\n",
    "    return res"
   ]
  },
  {
   "cell_type": "code",
   "execution_count": 39,
   "id": "speaking-nicaragua",
   "metadata": {},
   "outputs": [
    {
     "name": "stdout",
     "output_type": "stream",
     "text": [
      "[0.99999978 1.00000041 0.99999964 ... 0.99999998 1.00000004 1.00000008]\n"
     ]
    }
   ],
   "source": [
    "x = np.array([res[0] for res in RES[140:]])\n",
    "y = np.array([res[1] for res in RES[140:]])\n",
    "print(x)"
   ]
  },
  {
   "cell_type": "code",
   "execution_count": 40,
   "id": "national-zoning",
   "metadata": {},
   "outputs": [
    {
     "data": {
      "image/png": "[encoded data removed]",
      "text/plain": [
       "<Figure size 432x288 with 1 Axes>"
      ]
     },
     "metadata": {
      "needs_background": "light"
     },
     "output_type": "display_data"
    }
   ],
   "source": [
    "plt.plot(crosscorrel(x, x, max_lag=500), label=\"x,x\")\n",
    "plt.plot(crosscorrel(y, y, max_lag=500), label=\"y,y\")\n",
    "plt.plot(crosscorrel(x, y, max_lag=500), label=\"x,y\")\n",
    "plt.show()"
   ]
  },
  {
   "cell_type": "code",
   "execution_count": null,
   "id": "silent-backup",
   "metadata": {},
   "outputs": [],
   "source": []
  }
 ],
 "metadata": {
  "kernelspec": {
   "display_name": "Python 3 (ipykernel)",
   "language": "python",
   "name": "python3"
  },
  "language_info": {
   "codemirror_mode": {
    "name": "ipython",
    "version": 3
   },
   "file_extension": ".py",
   "mimetype": "text/x-python",
   "name": "python",
   "nbconvert_exporter": "python",
   "pygments_lexer": "ipython3",
   "version": "3.9.5"
  }
 },
 "nbformat": 4,
 "nbformat_minor": 5
}
