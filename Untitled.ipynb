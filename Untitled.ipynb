{
 "cells": [
  {
   "cell_type": "code",
   "execution_count": 1,
   "id": "turkish-principal",
   "metadata": {},
   "outputs": [],
   "source": [
    "import numpy as np\n",
    "import matplotlib.pyplot as plt\n",
    "import pandas as pd\n",
    "import seaborn as sns"
   ]
  },
  {
   "cell_type": "code",
   "execution_count": 2,
   "id": "approved-motion",
   "metadata": {},
   "outputs": [],
   "source": [
    "import time, sys\n",
    "\n",
    "# utility function fr progress bar \n",
    "# see https://stackoverflow.com/questions/3160699/python-progress-bar for more details\n",
    "def update_progress(progress):\n",
    "    barLength = 10 # Modify this to change the length of the progress bar\n",
    "    status = \"\"\n",
    "    if isinstance(progress, int):\n",
    "        progress = float(progress)\n",
    "    if not isinstance(progress, float):\n",
    "        progress = 0\n",
    "        status = \"error: progress var must be float\\r\\n\"\n",
    "    if progress < 0:\n",
    "        progress = 0\n",
    "        status = \"Halt...\\r\\n\"\n",
    "    if progress >= 1:\n",
    "        progress = 1\n",
    "        status = \"Done...\\r\\n\"\n",
    "    block = int(round(barLength*progress))\n",
    "    text = \"\\rPercent: [{0}] {1:.2f}% {2}\".format( \"#\"*block + \"-\"*(barLength-block), progress*100, status)\n",
    "    sys.stdout.write(text)\n",
    "    sys.stdout.flush()"
   ]
  },
  {
   "cell_type": "code",
   "execution_count": 3,
   "id": "banner-crazy",
   "metadata": {},
   "outputs": [],
   "source": [
    "def log_pi(X, B):\n",
    "    n = len(X)\n",
    "    grad = np.array([-X[i] for i in range(n)])\n",
    "    grad[0] = -2/100*X[0] - 2*X[0]*(X[1] + B*X[0]**2-100*B)\n",
    "    grad[1] = -(X[1] + B*X[1]**2 - 100*B)\n",
    "    return grad"
   ]
  },
  {
   "cell_type": "code",
   "execution_count": 4,
   "id": "bulgarian-agreement",
   "metadata": {},
   "outputs": [],
   "source": [
    "def generate_drift(X, grad_log_pi, B, delta, sigma, gamma):\n",
    "    grad = grad_log_pi(X,B)\n",
    "    D_mala = delta/(max(delta, np.abs(grad)))*grad\n",
    "    "
   ]
  },
  {
   "cell_type": "code",
   "execution_count": 197,
   "id": "positive-dietary",
   "metadata": {},
   "outputs": [],
   "source": [
    "class adaptative_MALA:\n",
    "    \n",
    "    def __init__(self, X, delta, B, mu_0, sigma_0, Gamma_0, tau, c_0, epsilon_1, epsilon_2, A_1, drift=True, adaptative=True):\n",
    "        self.X = X\n",
    "        self.delta = delta\n",
    "        self.B = B\n",
    "        self.mu = mu_0\n",
    "        self.sigma = sigma_0\n",
    "        self.Gamma = Gamma_0\n",
    "        self.Lambda = Gamma_0 + epsilon_2*np.eye(len(Gamma_0))\n",
    "        self.n = len(X)\n",
    "        self.tau = tau\n",
    "        self.c_0 = c_0\n",
    "        self.gamma = c_0\n",
    "        self.epsilon_1 = epsilon_1\n",
    "        self.epsilon_2 = epsilon_2\n",
    "        self.A_1 = A_1\n",
    "        self.D_mala = None\n",
    "        self.alpha = None\n",
    "        self.drift = drift\n",
    "        self.adaptative = adaptative\n",
    "    \n",
    "    def grad_log_pi(self):\n",
    "        grad = np.array([-self.X[i] for i in range(self.n)])\n",
    "        grad[0] = -2/100*self.X[0] - 2*self.X[0]*(X[1] + self.B*self.X[0]**2-100*self.B)\n",
    "        grad[1] = -(self.X[1] + self.B*self.X[1]**2 - 100*self.B)\n",
    "        return grad\n",
    "    \n",
    "    def generate_drift(self):\n",
    "        if self.drift:\n",
    "            grad = self.grad_log_pi()\n",
    "            self.D_mala = self.delta/(max(self.delta, np.sqrt(np.trace(np.outer(grad,grad)))))*grad\n",
    "            return np.random.multivariate_normal(self.X + self.sigma**2/2*self.Lambda@self.D_mala, self.sigma**2*self.Lambda)\n",
    "        else:\n",
    "            return np.random.multivariate_normal(self.X, self.sigma**2*self.Lambda)\n",
    "    \n",
    "    def log_gaussienne(self, X, Y):\n",
    "        if self.drift:\n",
    "            mu = X + self.sigma**2/2*self.Lambda@self.D_mala\n",
    "        else:\n",
    "            mu = X\n",
    "        return -1/2*(Y - mu).T@np.linalg.inv(self.sigma**2*self.Lambda)@(Y - mu)\n",
    "    \n",
    "    def log_loi(self, X):\n",
    "        res = -X[0]**2/200 - 1/2*(X[1] + self.B*X[0]**2 - 100*self.B)**2\n",
    "        return res - 1/2*np.sum(np.square(X[2:]))\n",
    "    \n",
    "    def MH_step(self):\n",
    "        Y = self.generate_drift()\n",
    "        log_alpha = min(0, self.log_gaussienne(Y,X)*self.log_loi(Y) - self.log_gaussienne(X,Y)*self.log_loi(X))\n",
    "        u = np.random.random()\n",
    "        if np.log(u) < log_alpha:\n",
    "            self.X = Y\n",
    "        self.alpha = np.exp(log_alpha)\n",
    "    \n",
    "    def p_1(self, sigma):\n",
    "        if sigma < self.epsilon_1:\n",
    "            return self.epsilon_1\n",
    "        elif sigma > self.A_1:\n",
    "            return A_1\n",
    "        else:\n",
    "            return sigma\n",
    "    \n",
    "    def p_2(self, sigma):\n",
    "        norme_sigma = np.sqrt(np.trace(sigma@sigma))\n",
    "        if norme_sigma < self.A_1:\n",
    "            return sigma\n",
    "        else:\n",
    "            return self.A_1/norme_sigma*sigma\n",
    "    \n",
    "    def p_3(self, x):\n",
    "        norme_x = np.linalg.norm(x)\n",
    "        if norme_x < self.A_1:\n",
    "            return x\n",
    "        else:\n",
    "            return A_1/norme_x*x\n",
    "\n",
    "    def update(self):\n",
    "        self.mu = self.p_3(self.mu + self.gamma*(self.X-self.mu))\n",
    "        self.Gamma = self.p_2(self.Gamma + self.gamma*(np.outer((self.X-self.mu), (self.X-self.mu)) - self.Gamma))\n",
    "        self.Lambda = self.Gamma + self.epsilon_2*np.eye(len(self.Gamma))\n",
    "        self.sigma = self.p_1(self.sigma + self.gamma*(np.exp(self.alpha) - self.tau))\n",
    "    \n",
    "    def run(self, maxIter=50000, sample=1000):\n",
    "        RES = []\n",
    "        for i in range(maxIter):\n",
    "            update_progress(i/maxIter)\n",
    "            self.MH_step()\n",
    "            if i != 0:\n",
    "                self.gamma = self.c_0/i\n",
    "            if self.adaptative:\n",
    "                self.update()\n",
    "            RES.append(self.X)\n",
    "        return RES[sample:]\n",
    "        \n",
    "        "
   ]
  },
  {
   "cell_type": "code",
   "execution_count": 198,
   "id": "backed-deadline",
   "metadata": {},
   "outputs": [],
   "source": [
    "delta = 1000\n",
    "tau = 0.2\n",
    "epsilon_1 = pow(10, -7)\n",
    "epsilon_2 = pow(10, -6)\n",
    "A_1 = np.power(10, 5)\n",
    "c_0 = 10\n",
    "B = 1\n",
    "mu_0 = np.array([0 for i in range(2)])\n",
    "sigma_0 = 1\n",
    "Gamma_0 = np.array([[10,5], [5,10]])# np.loadtxt(\"tmalaexcov.txt\", dtype=float)\n",
    "X = np.array([1 for i in range(2)])"
   ]
  },
  {
   "cell_type": "code",
   "execution_count": 199,
   "id": "decimal-brisbane",
   "metadata": {},
   "outputs": [],
   "source": [
    "test = adaptative_MALA(X, delta, B, mu_0, sigma_0, Gamma_0, tau, c_0, epsilon_1, epsilon_2, A_1, drift=False, adaptative=False)"
   ]
  },
  {
   "cell_type": "code",
   "execution_count": 200,
   "id": "colonial-spotlight",
   "metadata": {},
   "outputs": [
    {
     "name": "stdout",
     "output_type": "stream",
     "text": [
      "Percent: [##########] 100.00% "
     ]
    }
   ],
   "source": [
    "RES = test.run()"
   ]
  },
  {
   "cell_type": "code",
   "execution_count": null,
   "id": "revolutionary-tulsa",
   "metadata": {},
   "outputs": [],
   "source": []
  },
  {
   "cell_type": "code",
   "execution_count": 201,
   "id": "desperate-reunion",
   "metadata": {},
   "outputs": [
    {
     "data": {
      "image/png": "[encoded data removed]",
      "text/plain": [
       "<Figure size 432x288 with 1 Axes>"
      ]
     },
     "metadata": {
      "needs_background": "light"
     },
     "output_type": "display_data"
    }
   ],
   "source": [
    "x = np.array([res[0] for res in RES])\n",
    "y = np.array([res[1] for res in RES])\n",
    "plt.plot(x,y, \"o\")\n",
    "plt.show()"
   ]
  },
  {
   "cell_type": "code",
   "execution_count": 140,
   "id": "electric-rebate",
   "metadata": {},
   "outputs": [
    {
     "data": {
      "image/png": "[encoded data removed]",
      "text/plain": [
       "<Figure size 432x288 with 1 Axes>"
      ]
     },
     "metadata": {
      "needs_background": "light"
     },
     "output_type": "display_data"
    }
   ],
   "source": [
    "side = np.linspace(-120,120,1000)\n",
    "X, Y = np.meshgrid(side,side)\n",
    "Z = np.exp(-X**2/200 - 1/2*(Y + B*X**2 - 100*B)**2)\n",
    "\n",
    "# Plot the density map using nearest-neighbor interpolation\n",
    "#plt.xlim(-12, -8)\n",
    "#plt.ylim(-2, 2)\n",
    "plt.contour(X,Y,Z)\n",
    "plt.show()"
   ]
  },
  {
   "cell_type": "code",
   "execution_count": 87,
   "id": "painful-bankruptcy",
   "metadata": {},
   "outputs": [
    {
     "data": {
      "text/plain": [
       "array([ 1,  4,  9, 16, 25])"
      ]
     },
     "execution_count": 87,
     "metadata": {},
     "output_type": "execute_result"
    }
   ],
   "source": [
    "test = np.array([1,2,3,4,5])\n",
    "np.square(test)"
   ]
  },
  {
   "cell_type": "code",
   "execution_count": 32,
   "id": "further-roots",
   "metadata": {},
   "outputs": [],
   "source": [
    "def crosscorrel(x, y, max_lag=None):\n",
    "    if max_lag is None:\n",
    "        max_lag =  len(x)\n",
    "    sx = pd.Series(x)\n",
    "    sy = pd.Series(y)\n",
    "    res = np.zeros(max_lag)\n",
    "    for lag in range(1, max_lag):\n",
    "        res[lag] = sx.corr(sy.shift(lag))\n",
    "    res[0] = 1\n",
    "    return res"
   ]
  },
  {
   "cell_type": "code",
   "execution_count": 113,
   "id": "prerequisite-portfolio",
   "metadata": {},
   "outputs": [
    {
     "name": "stdout",
     "output_type": "stream",
     "text": [
      "[ 0.67424986  0.67424986  0.67424986 -3.89414355 -3.89414355  3.68413346\n",
      "  3.68413346  3.68413346  3.68413346 -1.4008355  -1.4008355  -1.4008355\n",
      "  0.28260238  0.28260238  0.28260238 -3.31174766 -3.31174766 -1.73922043\n",
      "  0.90207446  0.90207446  0.90207446  0.90207446  0.90207446  0.90207446\n",
      "  2.05112689  1.32312496  1.32312496  3.79108767  1.66528053  1.66528053\n",
      "  1.52727076  1.52727076  1.52727076  1.52727076 -4.74351487 -4.74351487\n",
      "  1.19306433  0.1806653   0.1806653   0.1806653   0.1806653   0.1806653\n",
      "  0.1806653   0.1806653   0.1806653  -3.59203672 -3.59203672  4.53635051\n",
      "  4.53635051  2.87886286  2.87886286  2.87886286  2.87886286  2.87886286\n",
      "  2.87886286  4.08470937 -0.4033331  -0.4033331  -2.09234873 -2.09234873]\n"
     ]
    }
   ],
   "source": [
    "x = np.array([res[0] for res in RES[140:]])\n",
    "y = np.array([res[1] for res in RES[140:]])\n",
    "print(x)"
   ]
  },
  {
   "cell_type": "code",
   "execution_count": 40,
   "id": "collect-trinidad",
   "metadata": {},
   "outputs": [
    {
     "data": {
      "image/png": "[encoded data removed]",
      "text/plain": [
       "<Figure size 432x288 with 1 Axes>"
      ]
     },
     "metadata": {
      "needs_background": "light"
     },
     "output_type": "display_data"
    }
   ],
   "source": [
    "plt.plot(crosscorrel(x, x, max_lag=500), label=\"x,x\")\n",
    "plt.plot(crosscorrel(y, y, max_lag=500), label=\"y,y\")\n",
    "plt.plot(crosscorrel(x, y, max_lag=500), label=\"x,y\")\n",
    "plt.show()"
   ]
  },
  {
   "cell_type": "code",
   "execution_count": null,
   "id": "super-major",
   "metadata": {},
   "outputs": [],
   "source": []
  }
 ],
 "metadata": {
  "kernelspec": {
   "display_name": "Python 3 (ipykernel)",
   "language": "python",
   "name": "python3"
  },
  "language_info": {
   "codemirror_mode": {
    "name": "ipython",
    "version": 3
   },
   "file_extension": ".py",
   "mimetype": "text/x-python",
   "name": "python",
   "nbconvert_exporter": "python",
   "pygments_lexer": "ipython3",
   "version": "3.9.5"
  }
 },
 "nbformat": 4,
 "nbformat_minor": 5
}
